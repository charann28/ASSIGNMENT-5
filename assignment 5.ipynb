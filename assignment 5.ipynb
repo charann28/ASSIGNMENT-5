{
 "cells": [
  {
   "cell_type": "code",
   "execution_count": null,
   "id": "5b7db4f4",
   "metadata": {},
   "outputs": [],
   "source": [
    "1. What does an empty dictionarys code look like?\n",
    "ANSWER:\n",
    "    The empty dictionary code is {} two curly brackets"
   ]
  },
  {
   "cell_type": "code",
   "execution_count": null,
   "id": "f353f58f",
   "metadata": {},
   "outputs": [],
   "source": [
    "2. What is the value of a dictionary value with the key 'foo' and the value 42?\n",
    "ANSWER:\n",
    "    the value of dictionary is {'foo':42}."
   ]
  },
  {
   "cell_type": "code",
   "execution_count": null,
   "id": "68d54467",
   "metadata": {},
   "outputs": [],
   "source": [
    "3. What is the most significant distinction between a dictionary and a list?\n",
    "ANSWER:\n",
    "    The items stored in the list is ordered.\n",
    "    The items stored in the dictionary is unordered."
   ]
  },
  {
   "cell_type": "code",
   "execution_count": null,
   "id": "0096aaad",
   "metadata": {},
   "outputs": [],
   "source": [
    "4. What happens if you try to access spam['foo'] if spam is {'bar': 100}?\n",
    "ANSWER:\n",
    "    we get a keyerror.because we are calling the key which is not present in the dictionary."
   ]
  },
  {
   "cell_type": "code",
   "execution_count": null,
   "id": "b0692023",
   "metadata": {},
   "outputs": [],
   "source": [
    "5. If a dictionary is stored in spam, what is the difference between the expressions 'cat' in spam and\n",
    "'cat' in spam.keys()?\n",
    "ANSWER:\n",
    "The in operator checks whether a value exists as a key in the dictionary. so there is no difference."
   ]
  },
  {
   "cell_type": "code",
   "execution_count": null,
   "id": "014cb1ed",
   "metadata": {},
   "outputs": [],
   "source": [
    "6. If a dictionary is stored in spam, what is the difference between the expressions 'cat' in spam and\n",
    "'cat' in spam.values()?\n",
    "ANSWER:\n",
    "    'cat' in spam. here the in operator checks whether 'cat' exists as a key or not.\n",
    "    'cat' in spam. here the in operator checks whether 'cat' exists as a value or not."
   ]
  },
  {
   "cell_type": "code",
   "execution_count": null,
   "id": "56002577",
   "metadata": {},
   "outputs": [],
   "source": [
    "7. What is a shortcut for the following code?\n",
    "if 'color' not in spam:\n",
    "spam['color'] = 'black'\n",
    "ANSWER:\n",
    "    spam.setdefault('color', 'black')"
   ]
  },
  {
   "cell_type": "code",
   "execution_count": null,
   "id": "8fba2578",
   "metadata": {},
   "outputs": [],
   "source": [
    "8. How do you \"pretty print\" dictionary values using which module and function?\n",
    "ANSWER:\n",
    "    pprint.pprint()"
   ]
  }
 ],
 "metadata": {
  "kernelspec": {
   "display_name": "Python 3 (ipykernel)",
   "language": "python",
   "name": "python3"
  },
  "language_info": {
   "codemirror_mode": {
    "name": "ipython",
    "version": 3
   },
   "file_extension": ".py",
   "mimetype": "text/x-python",
   "name": "python",
   "nbconvert_exporter": "python",
   "pygments_lexer": "ipython3",
   "version": "3.9.13"
  }
 },
 "nbformat": 4,
 "nbformat_minor": 5
}
